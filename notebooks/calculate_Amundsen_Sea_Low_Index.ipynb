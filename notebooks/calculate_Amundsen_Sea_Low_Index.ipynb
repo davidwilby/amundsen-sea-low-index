{
 "cells": [
  {
   "cell_type": "markdown",
   "metadata": {},
   "source": [
    "# Creating an Amundsen Sea Low (ASL) index\n",
    "\n",
    "This work is a continuation of my 2013 and 2016 papers as described [here](https://scotthosking.com/asl_index)"
   ]
  },
  {
   "cell_type": "markdown",
   "metadata": {},
   "source": [
    "## Read in data and run the calculations"
   ]
  },
  {
   "cell_type": "code",
   "execution_count": 4,
   "metadata": {},
   "outputs": [],
   "source": [
    "from asli.asli import ASLICalculator\n",
    "a = ASLICalculator(data_dir=\"../data/\", \n",
    "                   mask_filename=\"era5_lsm.nc\",\n",
    "                   msl_pattern=\"ERA5/monthly/era5_mean_sea_level_pressure_monthly_1988.nc\"\n",
    "                   )\n",
    "a.read_mask_data()\n",
    "a.read_msl_data()"
   ]
  },
  {
   "cell_type": "code",
   "execution_count": 5,
   "metadata": {},
   "outputs": [
    {
     "name": "stderr",
     "output_type": "stream",
     "text": [
      "  0%|          | 0/12 [00:01<?, ?it/s]\n"
     ]
    },
    {
     "data": {
      "text/html": [
       "<div>\n",
       "<style scoped>\n",
       "    .dataframe tbody tr th:only-of-type {\n",
       "        vertical-align: middle;\n",
       "    }\n",
       "\n",
       "    .dataframe tbody tr th {\n",
       "        vertical-align: top;\n",
       "    }\n",
       "\n",
       "    .dataframe thead th {\n",
       "        text-align: right;\n",
       "    }\n",
       "</style>\n",
       "<table border=\"1\" class=\"dataframe\">\n",
       "  <thead>\n",
       "    <tr style=\"text-align: right;\">\n",
       "      <th></th>\n",
       "      <th>time</th>\n",
       "      <th>lon</th>\n",
       "      <th>lat</th>\n",
       "      <th>ActCenPres</th>\n",
       "      <th>SectorPres</th>\n",
       "      <th>RelCenPres</th>\n",
       "    </tr>\n",
       "  </thead>\n",
       "  <tbody>\n",
       "    <tr>\n",
       "      <th>0</th>\n",
       "      <td>1988-01-01</td>\n",
       "      <td>232.50</td>\n",
       "      <td>-69.00</td>\n",
       "      <td>986.125916</td>\n",
       "      <td>990.082153</td>\n",
       "      <td>-3.956238</td>\n",
       "    </tr>\n",
       "    <tr>\n",
       "      <th>1</th>\n",
       "      <td>1988-02-01</td>\n",
       "      <td>263.25</td>\n",
       "      <td>-68.25</td>\n",
       "      <td>976.671387</td>\n",
       "      <td>985.222778</td>\n",
       "      <td>-8.551392</td>\n",
       "    </tr>\n",
       "    <tr>\n",
       "      <th>2</th>\n",
       "      <td>1988-03-01</td>\n",
       "      <td>276.50</td>\n",
       "      <td>-66.50</td>\n",
       "      <td>978.056702</td>\n",
       "      <td>984.485535</td>\n",
       "      <td>-6.428833</td>\n",
       "    </tr>\n",
       "    <tr>\n",
       "      <th>3</th>\n",
       "      <td>1988-04-01</td>\n",
       "      <td>213.25</td>\n",
       "      <td>-72.00</td>\n",
       "      <td>968.617493</td>\n",
       "      <td>982.442200</td>\n",
       "      <td>-13.824707</td>\n",
       "    </tr>\n",
       "    <tr>\n",
       "      <th>4</th>\n",
       "      <td>1988-05-01</td>\n",
       "      <td>212.00</td>\n",
       "      <td>-63.75</td>\n",
       "      <td>971.383667</td>\n",
       "      <td>983.241638</td>\n",
       "      <td>-11.857971</td>\n",
       "    </tr>\n",
       "    <tr>\n",
       "      <th>5</th>\n",
       "      <td>1988-06-01</td>\n",
       "      <td>202.00</td>\n",
       "      <td>-66.00</td>\n",
       "      <td>979.515442</td>\n",
       "      <td>985.835693</td>\n",
       "      <td>-6.320251</td>\n",
       "    </tr>\n",
       "    <tr>\n",
       "      <th>6</th>\n",
       "      <td>1988-07-01</td>\n",
       "      <td>201.75</td>\n",
       "      <td>-77.50</td>\n",
       "      <td>974.239746</td>\n",
       "      <td>984.625366</td>\n",
       "      <td>-10.385620</td>\n",
       "    </tr>\n",
       "    <tr>\n",
       "      <th>7</th>\n",
       "      <td>1988-08-01</td>\n",
       "      <td>193.75</td>\n",
       "      <td>-73.75</td>\n",
       "      <td>969.384155</td>\n",
       "      <td>988.279724</td>\n",
       "      <td>-18.895569</td>\n",
       "    </tr>\n",
       "    <tr>\n",
       "      <th>8</th>\n",
       "      <td>1988-09-01</td>\n",
       "      <td>238.50</td>\n",
       "      <td>-71.00</td>\n",
       "      <td>975.072266</td>\n",
       "      <td>982.799683</td>\n",
       "      <td>-7.727417</td>\n",
       "    </tr>\n",
       "    <tr>\n",
       "      <th>9</th>\n",
       "      <td>1988-10-01</td>\n",
       "      <td>231.00</td>\n",
       "      <td>-69.75</td>\n",
       "      <td>980.524536</td>\n",
       "      <td>988.078186</td>\n",
       "      <td>-7.553650</td>\n",
       "    </tr>\n",
       "    <tr>\n",
       "      <th>10</th>\n",
       "      <td>1988-11-01</td>\n",
       "      <td>225.00</td>\n",
       "      <td>-68.25</td>\n",
       "      <td>973.910706</td>\n",
       "      <td>979.230713</td>\n",
       "      <td>-5.320007</td>\n",
       "    </tr>\n",
       "    <tr>\n",
       "      <th>11</th>\n",
       "      <td>1988-12-01</td>\n",
       "      <td>195.50</td>\n",
       "      <td>-71.00</td>\n",
       "      <td>980.163696</td>\n",
       "      <td>984.664185</td>\n",
       "      <td>-4.500488</td>\n",
       "    </tr>\n",
       "  </tbody>\n",
       "</table>\n",
       "</div>"
      ],
      "text/plain": [
       "          time     lon    lat  ActCenPres  SectorPres  RelCenPres\n",
       "0   1988-01-01  232.50 -69.00  986.125916  990.082153   -3.956238\n",
       "1   1988-02-01  263.25 -68.25  976.671387  985.222778   -8.551392\n",
       "2   1988-03-01  276.50 -66.50  978.056702  984.485535   -6.428833\n",
       "3   1988-04-01  213.25 -72.00  968.617493  982.442200  -13.824707\n",
       "4   1988-05-01  212.00 -63.75  971.383667  983.241638  -11.857971\n",
       "5   1988-06-01  202.00 -66.00  979.515442  985.835693   -6.320251\n",
       "6   1988-07-01  201.75 -77.50  974.239746  984.625366  -10.385620\n",
       "7   1988-08-01  193.75 -73.75  969.384155  988.279724  -18.895569\n",
       "8   1988-09-01  238.50 -71.00  975.072266  982.799683   -7.727417\n",
       "9   1988-10-01  231.00 -69.75  980.524536  988.078186   -7.553650\n",
       "10  1988-11-01  225.00 -68.25  973.910706  979.230713   -5.320007\n",
       "11  1988-12-01  195.50 -71.00  980.163696  984.664185   -4.500488"
      ]
     },
     "execution_count": 5,
     "metadata": {},
     "output_type": "execute_result"
    }
   ],
   "source": [
    "a.calculate(n_jobs=1)"
   ]
  },
  {
   "cell_type": "markdown",
   "metadata": {},
   "source": [
    "## Plotting: location of minimas in pressure field"
   ]
  },
  {
   "cell_type": "code",
   "execution_count": 6,
   "metadata": {},
   "outputs": [
    {
     "ename": "TypeError",
     "evalue": "ASLICalculator.plot_region_all() got an unexpected keyword argument 'cmap'",
     "output_type": "error",
     "traceback": [
      "\u001b[0;31m---------------------------------------------------------------------------\u001b[0m",
      "\u001b[0;31mTypeError\u001b[0m                                 Traceback (most recent call last)",
      "Cell \u001b[0;32mIn[6], line 1\u001b[0m\n\u001b[0;32m----> 1\u001b[0m a\u001b[38;5;241m.\u001b[39mplot_region_all(cmap\u001b[38;5;241m=\u001b[39m\u001b[38;5;124m\"\u001b[39m\u001b[38;5;124mbwr\u001b[39m\u001b[38;5;124m\"\u001b[39m)\n",
      "\u001b[0;31mTypeError\u001b[0m: ASLICalculator.plot_region_all() got an unexpected keyword argument 'cmap'"
     ]
    }
   ],
   "source": [
    "a.plot_region_all()"
   ]
  },
  {
   "cell_type": "code",
   "execution_count": null,
   "metadata": {},
   "outputs": [],
   "source": []
  }
 ],
 "metadata": {
  "kernelspec": {
   "display_name": "Python 3",
   "language": "python",
   "name": "python3"
  },
  "language_info": {
   "codemirror_mode": {
    "name": "ipython",
    "version": 3
   },
   "file_extension": ".py",
   "mimetype": "text/x-python",
   "name": "python",
   "nbconvert_exporter": "python",
   "pygments_lexer": "ipython3",
   "version": "3.12.1"
  }
 },
 "nbformat": 4,
 "nbformat_minor": 4
}
